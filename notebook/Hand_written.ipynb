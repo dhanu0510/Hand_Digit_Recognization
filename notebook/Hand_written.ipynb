{
 "cells": [
  {
   "cell_type": "code",
   "execution_count": null,
   "metadata": {
    "executionInfo": {
     "elapsed": 1297,
     "status": "ok",
     "timestamp": 1613127674617,
     "user": {
      "displayName": "Dhananjay Patel",
      "photoUrl": "",
      "userId": "11535271142326225404"
     },
     "user_tz": -330
    },
    "id": "BBTg41zt4g1u"
   },
   "outputs": [],
   "source": [
    "import keras\n",
    "from keras.datasets import mnist\n",
    "from keras.models import Sequential\n",
    "from keras.layers import Dense, Dropout, Flatten\n",
    "from keras.layers import Conv2D, MaxPooling2D\n",
    "from keras import backend as K"
   ]
  },
  {
   "cell_type": "code",
   "execution_count": null,
   "metadata": {
    "executionInfo": {
     "elapsed": 1262,
     "status": "ok",
     "timestamp": 1613127709537,
     "user": {
      "displayName": "Dhananjay Patel",
      "photoUrl": "",
      "userId": "11535271142326225404"
     },
     "user_tz": -330
    },
    "id": "NsGHGzDH4uFG"
   },
   "outputs": [],
   "source": [
    "(x_train, y_train), (x_test, y_test) = mnist.load_data()"
   ]
  },
  {
   "cell_type": "code",
   "execution_count": null,
   "metadata": {
    "colab": {
     "base_uri": "https://localhost:8080/"
    },
    "executionInfo": {
     "elapsed": 1324,
     "status": "ok",
     "timestamp": 1613127675204,
     "user": {
      "displayName": "Dhananjay Patel",
      "photoUrl": "",
      "userId": "11535271142326225404"
     },
     "user_tz": -330
    },
    "id": "-HHjwLxl4642",
    "outputId": "74b714e2-420f-4305-d4da-b97984d80fc8",
    "scrolled": true
   },
   "outputs": [],
   "source": [
    "x_train.shape, y_train.shape"
   ]
  },
  {
   "cell_type": "code",
   "execution_count": null,
   "metadata": {
    "executionInfo": {
     "elapsed": 1075,
     "status": "ok",
     "timestamp": 1613127725821,
     "user": {
      "displayName": "Dhananjay Patel",
      "photoUrl": "",
      "userId": "11535271142326225404"
     },
     "user_tz": -330
    },
    "id": "EcAiw50G4-Do"
   },
   "outputs": [],
   "source": [
    "num_classes = 10\n",
    "x_train = x_train.reshape(x_train.shape[0], 28, 28, 1)\n",
    "x_test = x_test.reshape(x_test.shape[0], 28, 28, 1)\n",
    "input_shape = (28, 28, 1)\n",
    "\n",
    "# convert class vectors to binary class matrices\n",
    "y_train = keras.utils.to_categorical(y_train, num_classes)\n",
    "y_test = keras.utils.to_categorical(y_test, num_classes)\n",
    "\n",
    "x_train = x_train.astype('float32')\n",
    "x_test = x_test.astype('float32')\n",
    "x_train /= 255\n",
    "x_test /= 255\n"
   ]
  },
  {
   "cell_type": "code",
   "execution_count": null,
   "metadata": {},
   "outputs": [],
   "source": [
    "import matplotlib.pyplot as plt\n",
    "import numpy as np"
   ]
  },
  {
   "cell_type": "code",
   "execution_count": null,
   "metadata": {
    "colab": {
     "base_uri": "https://localhost:8080/",
     "height": 282
    },
    "executionInfo": {
     "elapsed": 1061,
     "status": "ok",
     "timestamp": 1613128373166,
     "user": {
      "displayName": "Dhananjay Patel",
      "photoUrl": "",
      "userId": "11535271142326225404"
     },
     "user_tz": -330
    },
    "id": "CosxQYmf8QJA",
    "outputId": "b4c147b0-438e-4459-812d-1dcbb1531cc4"
   },
   "outputs": [],
   "source": [
    "plt.imshow(x_train[0].reshape(28,28))\n",
    "print(np.argmax(y_train[0]))"
   ]
  },
  {
   "cell_type": "code",
   "execution_count": null,
   "metadata": {
    "colab": {
     "base_uri": "https://localhost:8080/"
    },
    "executionInfo": {
     "elapsed": 645,
     "status": "ok",
     "timestamp": 1613127734354,
     "user": {
      "displayName": "Dhananjay Patel",
      "photoUrl": "",
      "userId": "11535271142326225404"
     },
     "user_tz": -330
    },
    "id": "HSBwsqe458PH",
    "outputId": "c7e7f3a1-929d-4800-e41e-a59a6ab2d26e"
   },
   "outputs": [],
   "source": [
    "y_train[0]"
   ]
  },
  {
   "cell_type": "code",
   "execution_count": null,
   "metadata": {
    "colab": {
     "base_uri": "https://localhost:8080/"
    },
    "executionInfo": {
     "elapsed": 1008,
     "status": "ok",
     "timestamp": 1613127746046,
     "user": {
      "displayName": "Dhananjay Patel",
      "photoUrl": "",
      "userId": "11535271142326225404"
     },
     "user_tz": -330
    },
    "id": "piDAiqDc5GRy",
    "outputId": "5890a2e7-36bf-4dd7-8f93-29695e5ddcd3"
   },
   "outputs": [],
   "source": [
    "print('x_train shape:', x_train.shape)\n",
    "print(x_train.shape[0], 'train samples')\n",
    "print(x_test.shape[0], 'test samples')"
   ]
  },
  {
   "cell_type": "code",
   "execution_count": null,
   "metadata": {
    "executionInfo": {
     "elapsed": 1551,
     "status": "ok",
     "timestamp": 1613127842540,
     "user": {
      "displayName": "Dhananjay Patel",
      "photoUrl": "",
      "userId": "11535271142326225404"
     },
     "user_tz": -330
    },
    "id": "ItDDU4OM5Gk3"
   },
   "outputs": [],
   "source": [
    "input_shape = (28, 28, 1)\n",
    "model = Sequential()\n",
    "model.add(Conv2D(32, kernel_size=(3, 3),activation='relu',input_shape=input_shape))\n",
    "model.add(Conv2D(64, (3, 3), activation='relu'))\n",
    "model.add(MaxPooling2D(pool_size=(2, 2)))\n",
    "model.add(Dropout(0.25))\n",
    "model.add(Flatten())\n",
    "model.add(Dense(256, activation='relu'))\n",
    "model.add(Dropout(0.5))\n",
    "model.add(Dense(num_classes, activation='softmax'))\n",
    "\n",
    "model.compile(loss=\"categorical_crossentropy\",optimizer=\"adam\",metrics=['accuracy'])"
   ]
  },
  {
   "cell_type": "code",
   "execution_count": null,
   "metadata": {
    "colab": {
     "base_uri": "https://localhost:8080/"
    },
    "executionInfo": {
     "elapsed": 37955,
     "status": "ok",
     "timestamp": 1613127879804,
     "user": {
      "displayName": "Dhananjay Patel",
      "photoUrl": "",
      "userId": "11535271142326225404"
     },
     "user_tz": -330
    },
    "id": "sbbydufs5XXp",
    "outputId": "5d6d15bf-17e3-4bf5-b2b8-8acfec3e09a6"
   },
   "outputs": [],
   "source": [
    "batch_size = 128\n",
    "num_classes = 10\n",
    "epochs = 10\n",
    "hist = model.fit(x_train, y_train,batch_size=batch_size,epochs=epochs,verbose=1,validation_data=(x_test, y_test))"
   ]
  },
  {
   "cell_type": "code",
   "execution_count": null,
   "metadata": {
    "colab": {
     "base_uri": "https://localhost:8080/"
    },
    "executionInfo": {
     "elapsed": 2203,
     "status": "ok",
     "timestamp": 1613127894523,
     "user": {
      "displayName": "Dhananjay Patel",
      "photoUrl": "",
      "userId": "11535271142326225404"
     },
     "user_tz": -330
    },
    "id": "UbetS9Lu6HOv",
    "outputId": "ab104ec9-4604-4057-a299-6ac5af4cc979"
   },
   "outputs": [],
   "source": [
    "score = model.evaluate(x_test, y_test, verbose=0)\n",
    "print('Test loss:', score[0])\n",
    "print('Test accuracy:', score[1])"
   ]
  },
  {
   "cell_type": "code",
   "execution_count": null,
   "metadata": {
    "executionInfo": {
     "elapsed": 1019,
     "status": "ok",
     "timestamp": 1613127956333,
     "user": {
      "displayName": "Dhananjay Patel",
      "photoUrl": "",
      "userId": "11535271142326225404"
     },
     "user_tz": -330
    },
    "id": "9Vmjvtsb6yz8"
   },
   "outputs": [],
   "source": [
    "model.save('mnist.h5')"
   ]
  },
  {
   "cell_type": "code",
   "execution_count": null,
   "metadata": {
    "colab": {
     "base_uri": "https://localhost:8080/"
    },
    "executionInfo": {
     "elapsed": 1328,
     "status": "ok",
     "timestamp": 1613128762932,
     "user": {
      "displayName": "Dhananjay Patel",
      "photoUrl": "",
      "userId": "11535271142326225404"
     },
     "user_tz": -330
    },
    "id": "8BDQzt06627S",
    "outputId": "ebc31618-4a07-4c1b-a2f3-598152e60472"
   },
   "outputs": [],
   "source": [
    "from PIL import Image, ImageFilter\n",
    "from matplotlib import pyplot as plt\n",
    "import numpy as np\n",
    "\n",
    "def imageprepare(argv):\n",
    "    im = Image.open(argv).convert('L')\n",
    "    width = float(im.size[0])\n",
    "    height = float(im.size[1])\n",
    "    newImage = Image.new('L', (28, 28), (255))\n",
    "    if width > height:\n",
    "        nheight = int(round((20.0 / width * height), 0))\n",
    "        if (nheight == 0):\n",
    "            nheight = 1\n",
    "        img = im.resize((20, nheight), Image.ANTIALIAS).filter(ImageFilter.SHARPEN)\n",
    "        wtop = int(round(((28 - nheight) / 2), 0)) \n",
    "        newImage.paste(img, (4, wtop))\n",
    "    else:\n",
    "        nwidth = int(round((20.0 / height * width), 0)) \n",
    "        if (nwidth == 0): \n",
    "            nwidth = 1\n",
    "        img = im.resize((nwidth, 20), Image.ANTIALIAS).filter(ImageFilter.SHARPEN)\n",
    "        wleft = int(round(((28 - nwidth) / 2), 0)) \n",
    "        newImage.paste(img, (wleft, 4))\n",
    "    tv = list(newImage.getdata())\n",
    "    tva = [(255 - x) * 1.0 / 255.0 for x in tv]\n",
    "    print(tva)\n",
    "    return tva\n",
    "x=[imageprepare('5.png')]\n",
    "print(len(x))\n",
    "#print(x[0])\n",
    "#Now we convert 784 sized 1d array to 24x24 sized 2d array so that we can visualize it\n",
    "newArr=[[0 for d in range(28)] for y in range(28)]\n",
    "k = 0\n",
    "for i in range(28):\n",
    "    for j in range(28):\n",
    "        newArr[i][j]=x[0][k]\n",
    "        k=k+1\n"
   ]
  },
  {
   "cell_type": "code",
   "execution_count": null,
   "metadata": {
    "executionInfo": {
     "elapsed": 831,
     "status": "ok",
     "timestamp": 1613128762935,
     "user": {
      "displayName": "Dhananjay Patel",
      "photoUrl": "",
      "userId": "11535271142326225404"
     },
     "user_tz": -330
    },
    "id": "kdeNwKIV7-88"
   },
   "outputs": [],
   "source": [
    "img = np.array(newArr)\n",
    "ans = model.predict(img.reshape(-1,28,28,1))"
   ]
  },
  {
   "cell_type": "code",
   "execution_count": null,
   "metadata": {
    "colab": {
     "base_uri": "https://localhost:8080/",
     "height": 282
    },
    "executionInfo": {
     "elapsed": 1267,
     "status": "ok",
     "timestamp": 1613128763761,
     "user": {
      "displayName": "Dhananjay Patel",
      "photoUrl": "",
      "userId": "11535271142326225404"
     },
     "user_tz": -330
    },
    "id": "rs57OLj883Vd",
    "outputId": "a9952013-8438-4c2a-e7d2-de7a697bed76"
   },
   "outputs": [],
   "source": [
    "plt.imshow(img)"
   ]
  },
  {
   "cell_type": "code",
   "execution_count": null,
   "metadata": {
    "executionInfo": {
     "elapsed": 1645,
     "status": "ok",
     "timestamp": 1613128807167,
     "user": {
      "displayName": "Dhananjay Patel",
      "photoUrl": "",
      "userId": "11535271142326225404"
     },
     "user_tz": -330
    },
    "id": "t4CEmXXE7-vP"
   },
   "outputs": [],
   "source": []
  },
  {
   "cell_type": "code",
   "execution_count": null,
   "metadata": {
    "executionInfo": {
     "elapsed": 1412,
     "status": "ok",
     "timestamp": 1613128807168,
     "user": {
      "displayName": "Dhananjay Patel",
      "photoUrl": "",
      "userId": "11535271142326225404"
     },
     "user_tz": -330
    },
    "id": "QDwfBDgM7-YD"
   },
   "outputs": [],
   "source": []
  },
  {
   "cell_type": "code",
   "execution_count": null,
   "metadata": {
    "id": "b76RquKO6j04"
   },
   "outputs": [],
   "source": []
  },
  {
   "cell_type": "code",
   "execution_count": null,
   "metadata": {
    "id": "ZV-daAEW60q6"
   },
   "outputs": [],
   "source": []
  }
 ],
 "metadata": {
  "accelerator": "GPU",
  "colab": {
   "authorship_tag": "ABX9TyO/kw5dOPyQnRcP+vvOBjJG",
   "collapsed_sections": [],
   "name": "Hand_written.ipynb",
   "provenance": []
  },
  "kernelspec": {
   "display_name": "Python 3",
   "language": "python",
   "name": "python3"
  },
  "language_info": {
   "codemirror_mode": {
    "name": "ipython",
    "version": 3
   },
   "file_extension": ".py",
   "mimetype": "text/x-python",
   "name": "python",
   "nbconvert_exporter": "python",
   "pygments_lexer": "ipython3",
   "version": "3.7.6"
  },
  "toc": {
   "base_numbering": 1,
   "nav_menu": {},
   "number_sections": true,
   "sideBar": true,
   "skip_h1_title": false,
   "title_cell": "Table of Contents",
   "title_sidebar": "Contents",
   "toc_cell": false,
   "toc_position": {},
   "toc_section_display": true,
   "toc_window_display": false
  }
 },
 "nbformat": 4,
 "nbformat_minor": 1
}
